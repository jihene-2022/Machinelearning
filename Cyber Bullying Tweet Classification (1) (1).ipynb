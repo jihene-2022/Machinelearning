{
 "cells": [
  {
   "cell_type": "markdown",
   "id": "777cb9b8",
   "metadata": {},
   "source": [
    "# Importing Libraries"
   ]
  },
  {
   "cell_type": "code",
   "execution_count": 1,
   "id": "95ec4cd6",
   "metadata": {},
   "outputs": [],
   "source": [
    "import warnings\n",
    "warnings.filterwarnings('ignore')\n",
    "import pandas as pd\n",
    "import numpy as np\n",
    "import re\n",
    "import matplotlib.pyplot as plt\n",
    "%matplotlib inline\n",
    "import seaborn as sns\n",
    "import plotly.express as px\n",
    "import emoji\n",
    "import string\n",
    "import nltk\n",
    "from PIL import Image\n",
    "from collections import Counter\n",
    "from wordcloud import WordCloud, ImageColorGenerator, STOPWORDS\n",
    "from nltk.tokenize import word_tokenize\n",
    "from nltk.corpus import stopwords\n",
    "from nltk.stem.porter import PorterStemmer\n",
    "from nltk.stem.snowball import SnowballStemmer\n",
    "from nltk.stem import WordNetLemmatizer\n",
    "from sklearn.feature_extraction.text import CountVectorizer\n",
    "from sklearn.feature_extraction.text import TfidfVectorizer\n",
    "from sklearn.model_selection import train_test_split\n",
    "from sklearn.model_selection import cross_val_score\n",
    "from sklearn.metrics import accuracy_score, f1_score, confusion_matrix, classification_report\n",
    "from sklearn.model_selection import GridSearchCV\n",
    "from sklearn.model_selection import RandomizedSearchCV\n",
    "from sklearn.linear_model import LogisticRegression\n",
    "from sklearn.ensemble import RandomForestClassifier\n",
    "from sklearn.ensemble import AdaBoostClassifier\n",
    "from sklearn.svm import SVC,LinearSVC\n",
    "from sklearn.naive_bayes import MultinomialNB\n",
    "from sklearn.tree import DecisionTreeClassifier\n",
    "from sklearn.pipeline import Pipeline\n",
    "import pickle"
   ]
  },
  {
   "cell_type": "markdown",
   "id": "8556b23a",
   "metadata": {},
   "source": [
    "# Getting data"
   ]
  },
  {
   "cell_type": "code",
   "execution_count": 2,
   "id": "80eaea50",
   "metadata": {},
   "outputs": [],
   "source": [
    "data = pd.read_csv('cyberbullying_tweets.csv')"
   ]
  },
  {
   "cell_type": "markdown",
   "id": "f38a4d86",
   "metadata": {},
   "source": [
    "# Initial Review"
   ]
  },
  {
   "cell_type": "code",
   "execution_count": 3,
   "id": "a9e82241",
   "metadata": {},
   "outputs": [
    {
     "name": "stdout",
     "output_type": "stream",
     "text": [
      "<class 'pandas.core.frame.DataFrame'>\n",
      "RangeIndex: 47692 entries, 0 to 47691\n",
      "Data columns (total 2 columns):\n",
      " #   Column              Non-Null Count  Dtype \n",
      "---  ------              --------------  ----- \n",
      " 0   tweet_text          47692 non-null  object\n",
      " 1   cyberbullying_type  47692 non-null  object\n",
      "dtypes: object(2)\n",
      "memory usage: 745.3+ KB\n"
     ]
    }
   ],
   "source": [
    "data.info()"
   ]
  },
  {
   "cell_type": "code",
   "execution_count": 4,
   "id": "e4b76404",
   "metadata": {},
   "outputs": [
    {
     "data": {
      "text/html": [
       "<div>\n",
       "<style scoped>\n",
       "    .dataframe tbody tr th:only-of-type {\n",
       "        vertical-align: middle;\n",
       "    }\n",
       "\n",
       "    .dataframe tbody tr th {\n",
       "        vertical-align: top;\n",
       "    }\n",
       "\n",
       "    .dataframe thead th {\n",
       "        text-align: right;\n",
       "    }\n",
       "</style>\n",
       "<table border=\"1\" class=\"dataframe\">\n",
       "  <thead>\n",
       "    <tr style=\"text-align: right;\">\n",
       "      <th></th>\n",
       "      <th>tweet_text</th>\n",
       "      <th>cyberbullying_type</th>\n",
       "    </tr>\n",
       "  </thead>\n",
       "  <tbody>\n",
       "    <tr>\n",
       "      <th>0</th>\n",
       "      <td>In other words #katandandre, your food was cra...</td>\n",
       "      <td>not_cyberbullying</td>\n",
       "    </tr>\n",
       "    <tr>\n",
       "      <th>1</th>\n",
       "      <td>Why is #aussietv so white? #MKR #theblock #ImA...</td>\n",
       "      <td>not_cyberbullying</td>\n",
       "    </tr>\n",
       "    <tr>\n",
       "      <th>2</th>\n",
       "      <td>@XochitlSuckkks a classy whore? Or more red ve...</td>\n",
       "      <td>not_cyberbullying</td>\n",
       "    </tr>\n",
       "    <tr>\n",
       "      <th>3</th>\n",
       "      <td>@Jason_Gio meh. :P  thanks for the heads up, b...</td>\n",
       "      <td>not_cyberbullying</td>\n",
       "    </tr>\n",
       "    <tr>\n",
       "      <th>4</th>\n",
       "      <td>@RudhoeEnglish This is an ISIS account pretend...</td>\n",
       "      <td>not_cyberbullying</td>\n",
       "    </tr>\n",
       "  </tbody>\n",
       "</table>\n",
       "</div>"
      ],
      "text/plain": [
       "                                          tweet_text cyberbullying_type\n",
       "0  In other words #katandandre, your food was cra...  not_cyberbullying\n",
       "1  Why is #aussietv so white? #MKR #theblock #ImA...  not_cyberbullying\n",
       "2  @XochitlSuckkks a classy whore? Or more red ve...  not_cyberbullying\n",
       "3  @Jason_Gio meh. :P  thanks for the heads up, b...  not_cyberbullying\n",
       "4  @RudhoeEnglish This is an ISIS account pretend...  not_cyberbullying"
      ]
     },
     "execution_count": 4,
     "metadata": {},
     "output_type": "execute_result"
    }
   ],
   "source": [
    "data.head()"
   ]
  },
  {
   "cell_type": "markdown",
   "id": "1d39d45b",
   "metadata": {},
   "source": [
    "# Checking Missing Values"
   ]
  },
  {
   "cell_type": "code",
   "execution_count": 5,
   "id": "1f37920c",
   "metadata": {},
   "outputs": [
    {
     "data": {
      "text/plain": [
       "tweet_text            0\n",
       "cyberbullying_type    0\n",
       "dtype: int64"
      ]
     },
     "execution_count": 5,
     "metadata": {},
     "output_type": "execute_result"
    }
   ],
   "source": [
    "data.isnull().sum()"
   ]
  },
  {
   "cell_type": "markdown",
   "id": "0ebf3d47",
   "metadata": {},
   "source": [
    "## No Missing Values found!"
   ]
  },
  {
   "cell_type": "code",
   "execution_count": 6,
   "id": "68802ba4",
   "metadata": {},
   "outputs": [
    {
     "data": {
      "text/plain": [
       "religion               7998\n",
       "age                    7992\n",
       "gender                 7973\n",
       "ethnicity              7961\n",
       "not_cyberbullying      7945\n",
       "other_cyberbullying    7823\n",
       "Name: cyberbullying_type, dtype: int64"
      ]
     },
     "execution_count": 6,
     "metadata": {},
     "output_type": "execute_result"
    }
   ],
   "source": [
    "data['cyberbullying_type'].value_counts()"
   ]
  },
  {
   "cell_type": "markdown",
   "id": "2b30bb5b",
   "metadata": {},
   "source": [
    "## Renaming columns for better understanding"
   ]
  },
  {
   "cell_type": "code",
   "execution_count": 7,
   "id": "19692219",
   "metadata": {},
   "outputs": [],
   "source": [
    "data = data.rename(columns={'tweet_text': 'text', 'cyberbullying_type': 'sentiment'})"
   ]
  },
  {
   "cell_type": "code",
   "execution_count": 8,
   "id": "3bd23113",
   "metadata": {},
   "outputs": [
    {
     "data": {
      "text/html": [
       "<div>\n",
       "<style scoped>\n",
       "    .dataframe tbody tr th:only-of-type {\n",
       "        vertical-align: middle;\n",
       "    }\n",
       "\n",
       "    .dataframe tbody tr th {\n",
       "        vertical-align: top;\n",
       "    }\n",
       "\n",
       "    .dataframe thead th {\n",
       "        text-align: right;\n",
       "    }\n",
       "</style>\n",
       "<table border=\"1\" class=\"dataframe\">\n",
       "  <thead>\n",
       "    <tr style=\"text-align: right;\">\n",
       "      <th></th>\n",
       "      <th>text</th>\n",
       "      <th>sentiment</th>\n",
       "    </tr>\n",
       "  </thead>\n",
       "  <tbody>\n",
       "    <tr>\n",
       "      <th>0</th>\n",
       "      <td>In other words #katandandre, your food was cra...</td>\n",
       "      <td>not_cyberbullying</td>\n",
       "    </tr>\n",
       "    <tr>\n",
       "      <th>1</th>\n",
       "      <td>Why is #aussietv so white? #MKR #theblock #ImA...</td>\n",
       "      <td>not_cyberbullying</td>\n",
       "    </tr>\n",
       "    <tr>\n",
       "      <th>2</th>\n",
       "      <td>@XochitlSuckkks a classy whore? Or more red ve...</td>\n",
       "      <td>not_cyberbullying</td>\n",
       "    </tr>\n",
       "    <tr>\n",
       "      <th>3</th>\n",
       "      <td>@Jason_Gio meh. :P  thanks for the heads up, b...</td>\n",
       "      <td>not_cyberbullying</td>\n",
       "    </tr>\n",
       "    <tr>\n",
       "      <th>4</th>\n",
       "      <td>@RudhoeEnglish This is an ISIS account pretend...</td>\n",
       "      <td>not_cyberbullying</td>\n",
       "    </tr>\n",
       "  </tbody>\n",
       "</table>\n",
       "</div>"
      ],
      "text/plain": [
       "                                                text          sentiment\n",
       "0  In other words #katandandre, your food was cra...  not_cyberbullying\n",
       "1  Why is #aussietv so white? #MKR #theblock #ImA...  not_cyberbullying\n",
       "2  @XochitlSuckkks a classy whore? Or more red ve...  not_cyberbullying\n",
       "3  @Jason_Gio meh. :P  thanks for the heads up, b...  not_cyberbullying\n",
       "4  @RudhoeEnglish This is an ISIS account pretend...  not_cyberbullying"
      ]
     },
     "execution_count": 8,
     "metadata": {},
     "output_type": "execute_result"
    }
   ],
   "source": [
    "data.head()"
   ]
  },
  {
   "cell_type": "markdown",
   "id": "f4d7a66e",
   "metadata": {},
   "source": [
    "### Adding Encoded column for sentiments"
   ]
  },
  {
   "cell_type": "code",
   "execution_count": 9,
   "id": "82ce3b59",
   "metadata": {},
   "outputs": [],
   "source": [
    "data[\"sentiment_encoded\"] = data['sentiment'].replace({\"religion\": 1, \"age\": 2, \"ethnicity\": 3, \"gender\": 4, \"other_cyberbullying\": 5,\"not_cyberbullying\": 6})"
   ]
  },
  {
   "cell_type": "code",
   "execution_count": 10,
   "id": "2de2f9da",
   "metadata": {},
   "outputs": [
    {
     "data": {
      "text/html": [
       "<div>\n",
       "<style scoped>\n",
       "    .dataframe tbody tr th:only-of-type {\n",
       "        vertical-align: middle;\n",
       "    }\n",
       "\n",
       "    .dataframe tbody tr th {\n",
       "        vertical-align: top;\n",
       "    }\n",
       "\n",
       "    .dataframe thead th {\n",
       "        text-align: right;\n",
       "    }\n",
       "</style>\n",
       "<table border=\"1\" class=\"dataframe\">\n",
       "  <thead>\n",
       "    <tr style=\"text-align: right;\">\n",
       "      <th></th>\n",
       "      <th>text</th>\n",
       "      <th>sentiment</th>\n",
       "      <th>sentiment_encoded</th>\n",
       "    </tr>\n",
       "  </thead>\n",
       "  <tbody>\n",
       "    <tr>\n",
       "      <th>0</th>\n",
       "      <td>In other words #katandandre, your food was cra...</td>\n",
       "      <td>not_cyberbullying</td>\n",
       "      <td>6</td>\n",
       "    </tr>\n",
       "    <tr>\n",
       "      <th>1</th>\n",
       "      <td>Why is #aussietv so white? #MKR #theblock #ImA...</td>\n",
       "      <td>not_cyberbullying</td>\n",
       "      <td>6</td>\n",
       "    </tr>\n",
       "    <tr>\n",
       "      <th>2</th>\n",
       "      <td>@XochitlSuckkks a classy whore? Or more red ve...</td>\n",
       "      <td>not_cyberbullying</td>\n",
       "      <td>6</td>\n",
       "    </tr>\n",
       "    <tr>\n",
       "      <th>3</th>\n",
       "      <td>@Jason_Gio meh. :P  thanks for the heads up, b...</td>\n",
       "      <td>not_cyberbullying</td>\n",
       "      <td>6</td>\n",
       "    </tr>\n",
       "    <tr>\n",
       "      <th>4</th>\n",
       "      <td>@RudhoeEnglish This is an ISIS account pretend...</td>\n",
       "      <td>not_cyberbullying</td>\n",
       "      <td>6</td>\n",
       "    </tr>\n",
       "  </tbody>\n",
       "</table>\n",
       "</div>"
      ],
      "text/plain": [
       "                                                text          sentiment  \\\n",
       "0  In other words #katandandre, your food was cra...  not_cyberbullying   \n",
       "1  Why is #aussietv so white? #MKR #theblock #ImA...  not_cyberbullying   \n",
       "2  @XochitlSuckkks a classy whore? Or more red ve...  not_cyberbullying   \n",
       "3  @Jason_Gio meh. :P  thanks for the heads up, b...  not_cyberbullying   \n",
       "4  @RudhoeEnglish This is an ISIS account pretend...  not_cyberbullying   \n",
       "\n",
       "   sentiment_encoded  \n",
       "0                  6  \n",
       "1                  6  \n",
       "2                  6  \n",
       "3                  6  \n",
       "4                  6  "
      ]
     },
     "execution_count": 10,
     "metadata": {},
     "output_type": "execute_result"
    }
   ],
   "source": [
    "data.head()"
   ]
  },
  {
   "cell_type": "code",
   "execution_count": 11,
   "id": "900d4907",
   "metadata": {},
   "outputs": [
    {
     "data": {
      "text/plain": [
       "1    7998\n",
       "2    7992\n",
       "4    7973\n",
       "3    7961\n",
       "6    7945\n",
       "5    7823\n",
       "Name: sentiment_encoded, dtype: int64"
      ]
     },
     "execution_count": 11,
     "metadata": {},
     "output_type": "execute_result"
    }
   ],
   "source": [
    "data['sentiment_encoded'].value_counts()"
   ]
  },
  {
   "cell_type": "code",
   "execution_count": 12,
   "id": "f0345e5f",
   "metadata": {},
   "outputs": [
    {
     "data": {
      "image/png": "[encoded data removed]",
      "text/plain": [
       "<Figure size 640x480 with 1 Axes>"
      ]
     },
     "metadata": {},
     "output_type": "display_data"
    }
   ],
   "source": [
    "import matplotlib.pyplot as plt\n",
    "plt.pie(data['sentiment_encoded'].value_counts(), labels=[\"religion\" , \"age\" , \"ethnicity\" , \"gender\" , \"other_cyberbullying\" ,\"not_cyberbullying\"],autopct=\"%0.2f\")\n",
    "plt.show()"
   ]
  },
  {
   "cell_type": "code",
   "execution_count": 13,
   "id": "bc7e8f40",
   "metadata": {},
   "outputs": [
    {
     "name": "stderr",
     "output_type": "stream",
     "text": [
      "[nltk_data] Downloading package stopwords to\n",
      "[nltk_data]     C:\\Users\\TECHN\\AppData\\Roaming\\nltk_data...\n",
      "[nltk_data]   Package stopwords is already up-to-date!\n"
     ]
    },
    {
     "data": {
      "text/plain": [
       "True"
      ]
     },
     "execution_count": 13,
     "metadata": {},
     "output_type": "execute_result"
    }
   ],
   "source": [
    "import nltk\n",
    "nltk.download('stopwords')"
   ]
  },
  {
   "cell_type": "code",
   "execution_count": 14,
   "id": "e9688ee2",
   "metadata": {},
   "outputs": [],
   "source": [
    "stop_words = set(stopwords.words('english'))"
   ]
  },
  {
   "cell_type": "markdown",
   "id": "9f0aec9b",
   "metadata": {},
   "source": [
    "# Preprocessing of Text"
   ]
  },
  {
   "cell_type": "markdown",
   "id": "f77655a0",
   "metadata": {},
   "source": [
    "## Function to Remove Emojis"
   ]
  },
  {
   "cell_type": "code",
   "execution_count": 15,
   "id": "84b3ac54",
   "metadata": {},
   "outputs": [],
   "source": [
    "def strip_emoji(text):\n",
    "    return emoji.replace_emoji(text,replace=\"\")"
   ]
  },
  {
   "cell_type": "markdown",
   "id": "5810f430",
   "metadata": {},
   "source": [
    "## Fucntion to Convert text to lowercase, remove (/r, /n  characters), URLs, non-utf characters, Numbers, punctuations,stopwords"
   ]
  },
  {
   "cell_type": "code",
   "execution_count": 16,
   "id": "5f08710c",
   "metadata": {},
   "outputs": [],
   "source": [
    "def strip_all_entities(text): \n",
    "    text = text.replace('\\r', '').replace('\\n', ' ').lower()\n",
    "    text = re.sub(r\"(?:\\@|https?\\://)\\S+\", \"\", text)\n",
    "    text = re.sub(r'[^\\x00-\\x7f]',r'', text)\n",
    "    text = re.sub(r'(.)1+', r'1', text)\n",
    "    text = re.sub('[0-9]+', '', text)\n",
    "    stopchars= string.punctuation\n",
    "    table = str.maketrans('', '', stopchars)\n",
    "    text = text.translate(table)\n",
    "    text = [word for word in text.split() if word not in stop_words]\n",
    "    text = ' '.join(text)\n",
    "    return text"
   ]
  },
  {
   "cell_type": "markdown",
   "id": "03e802f4",
   "metadata": {},
   "source": [
    "## Function to remove contractions"
   ]
  },
  {
   "cell_type": "code",
   "execution_count": 17,
   "id": "9363df94",
   "metadata": {},
   "outputs": [],
   "source": [
    "def decontract(text):\n",
    "    text = re.sub(r\"can\\'t\", \"can not\", text)\n",
    "    text = re.sub(r\"n\\'t\", \" not\", text)\n",
    "    text = re.sub(r\"\\'re\", \" are\", text)\n",
    "    text = re.sub(r\"\\'s\", \" is\", text)\n",
    "    text = re.sub(r\"\\'d\", \" would\", text)\n",
    "    text = re.sub(r\"\\'ll\", \" will\", text)\n",
    "    text = re.sub(r\"\\'t\", \" not\", text)\n",
    "    text = re.sub(r\"\\'ve\", \" have\", text)\n",
    "    text = re.sub(r\"\\'m\", \" am\", text)\n",
    "    return text"
   ]
  },
  {
   "cell_type": "markdown",
   "id": "f27f734c",
   "metadata": {},
   "source": [
    "## Function to Clean Hashtags"
   ]
  },
  {
   "cell_type": "code",
   "execution_count": 18,
   "id": "6047710b",
   "metadata": {},
   "outputs": [],
   "source": [
    "def clean_hashtags(tweet):\n",
    "    new_tweet = \" \".join(word.strip() for word in re.split('#(?!(?:hashtag)\\b)[\\w-]+(?=(?:\\s+#[\\w-]+)*\\s*$)', tweet))\n",
    "    new_tweet2 = \" \".join(word.strip() for word in re.split('#|_', new_tweet))\n",
    "    return new_tweet2"
   ]
  },
  {
   "cell_type": "markdown",
   "id": "0ec23586",
   "metadata": {},
   "source": [
    "## Function to Filter Special Characters such as $, &"
   ]
  },
  {
   "cell_type": "code",
   "execution_count": 19,
   "id": "8ec1f6ad",
   "metadata": {},
   "outputs": [],
   "source": [
    "def filter_chars(a):\n",
    "    sent = []\n",
    "    for word in a.split(' '):\n",
    "        if ('$' in word) | ('&' in word):\n",
    "            sent.append('')\n",
    "        else:\n",
    "            sent.append(word)\n",
    "    return ' '.join(sent)"
   ]
  },
  {
   "cell_type": "markdown",
   "id": "6f914a9f",
   "metadata": {},
   "source": [
    "## Function to remove multiple sequence spaces\n"
   ]
  },
  {
   "cell_type": "code",
   "execution_count": 20,
   "id": "4aef21fa",
   "metadata": {},
   "outputs": [],
   "source": [
    "def remove_mult_spaces(text):\n",
    "    return re.sub(\"\\s\\s+\" , \" \", text)\n"
   ]
  },
  {
   "cell_type": "markdown",
   "id": "94b7ce8e",
   "metadata": {},
   "source": [
    "## Function to apply stemming to words"
   ]
  },
  {
   "cell_type": "code",
   "execution_count": 21,
   "id": "aded2220",
   "metadata": {},
   "outputs": [],
   "source": [
    "def stemmer(text):\n",
    "    tokenized = nltk.word_tokenize(text)\n",
    "    ps = PorterStemmer()\n",
    "    return ' '.join([ps.stem(words) for words in tokenized])"
   ]
  },
  {
   "cell_type": "markdown",
   "id": "06f11695",
   "metadata": {},
   "source": [
    "## Function to apply lemmatization to words"
   ]
  },
  {
   "cell_type": "code",
   "execution_count": 22,
   "id": "bc526527",
   "metadata": {},
   "outputs": [],
   "source": [
    "def lemmatize(text):\n",
    "    tokenized = nltk.word_tokenize(text)\n",
    "    lm = WordNetLemmatizer()\n",
    "    return ' '.join([lm.lemmatize(words) for words in tokenized])"
   ]
  },
  {
   "cell_type": "markdown",
   "id": "1cf32981",
   "metadata": {},
   "source": [
    "## Function to Preprocess the text by applying all above functions"
   ]
  },
  {
   "cell_type": "code",
   "execution_count": 23,
   "id": "6e656d3a",
   "metadata": {},
   "outputs": [],
   "source": [
    "def preprocess(text):\n",
    "    text = strip_emoji(text)\n",
    "    text = decontract(text)\n",
    "    text = strip_all_entities(text)\n",
    "    text = clean_hashtags(text)\n",
    "    text = filter_chars(text)\n",
    "    text = remove_mult_spaces(text)\n",
    "    text = stemmer(text)\n",
    "    text = lemmatize(text)\n",
    "    return text"
   ]
  },
  {
   "cell_type": "code",
   "execution_count": 24,
   "id": "fc5e7351",
   "metadata": {},
   "outputs": [
    {
     "name": "stderr",
     "output_type": "stream",
     "text": [
      "[nltk_data] Downloading package punkt to\n",
      "[nltk_data]     C:\\Users\\TECHN\\AppData\\Roaming\\nltk_data...\n",
      "[nltk_data]   Package punkt is already up-to-date!\n",
      "[nltk_data] Downloading package wordnet to\n",
      "[nltk_data]     C:\\Users\\TECHN\\AppData\\Roaming\\nltk_data...\n",
      "[nltk_data]   Package wordnet is already up-to-date!\n",
      "[nltk_data] Downloading package omw-1.4 to\n",
      "[nltk_data]     C:\\Users\\TECHN\\AppData\\Roaming\\nltk_data...\n",
      "[nltk_data]   Package omw-1.4 is already up-to-date!\n"
     ]
    },
    {
     "data": {
      "text/plain": [
       "True"
      ]
     },
     "execution_count": 24,
     "metadata": {},
     "output_type": "execute_result"
    }
   ],
   "source": [
    "import nltk\n",
    "nltk.download('punkt')\n",
    "nltk.download('wordnet')\n",
    "nltk.download('omw-1.4')\n"
   ]
  },
  {
   "cell_type": "code",
   "execution_count": 25,
   "id": "5f73f2a5",
   "metadata": {
    "scrolled": true
   },
   "outputs": [
    {
     "data": {
      "text/html": [
       "<div>\n",
       "<style scoped>\n",
       "    .dataframe tbody tr th:only-of-type {\n",
       "        vertical-align: middle;\n",
       "    }\n",
       "\n",
       "    .dataframe tbody tr th {\n",
       "        vertical-align: top;\n",
       "    }\n",
       "\n",
       "    .dataframe thead th {\n",
       "        text-align: right;\n",
       "    }\n",
       "</style>\n",
       "<table border=\"1\" class=\"dataframe\">\n",
       "  <thead>\n",
       "    <tr style=\"text-align: right;\">\n",
       "      <th></th>\n",
       "      <th>text</th>\n",
       "      <th>sentiment</th>\n",
       "      <th>sentiment_encoded</th>\n",
       "      <th>cleaned_text</th>\n",
       "    </tr>\n",
       "  </thead>\n",
       "  <tbody>\n",
       "    <tr>\n",
       "      <th>0</th>\n",
       "      <td>In other words #katandandre, your food was cra...</td>\n",
       "      <td>not_cyberbullying</td>\n",
       "      <td>6</td>\n",
       "      <td>word katandandr food crapilici mkr</td>\n",
       "    </tr>\n",
       "    <tr>\n",
       "      <th>1</th>\n",
       "      <td>Why is #aussietv so white? #MKR #theblock #ImA...</td>\n",
       "      <td>not_cyberbullying</td>\n",
       "      <td>6</td>\n",
       "      <td>aussietv white mkr theblock imacelebrityau tod...</td>\n",
       "    </tr>\n",
       "    <tr>\n",
       "      <th>2</th>\n",
       "      <td>@XochitlSuckkks a classy whore? Or more red ve...</td>\n",
       "      <td>not_cyberbullying</td>\n",
       "      <td>6</td>\n",
       "      <td>classi whore red velvet cupcak</td>\n",
       "    </tr>\n",
       "    <tr>\n",
       "      <th>3</th>\n",
       "      <td>@Jason_Gio meh. :P  thanks for the heads up, b...</td>\n",
       "      <td>not_cyberbullying</td>\n",
       "      <td>6</td>\n",
       "      <td>meh p thank head concern anoth angri dude twitter</td>\n",
       "    </tr>\n",
       "    <tr>\n",
       "      <th>4</th>\n",
       "      <td>@RudhoeEnglish This is an ISIS account pretend...</td>\n",
       "      <td>not_cyberbullying</td>\n",
       "      <td>6</td>\n",
       "      <td>isi account pretend kurdish account like islam...</td>\n",
       "    </tr>\n",
       "  </tbody>\n",
       "</table>\n",
       "</div>"
      ],
      "text/plain": [
       "                                                text          sentiment  \\\n",
       "0  In other words #katandandre, your food was cra...  not_cyberbullying   \n",
       "1  Why is #aussietv so white? #MKR #theblock #ImA...  not_cyberbullying   \n",
       "2  @XochitlSuckkks a classy whore? Or more red ve...  not_cyberbullying   \n",
       "3  @Jason_Gio meh. :P  thanks for the heads up, b...  not_cyberbullying   \n",
       "4  @RudhoeEnglish This is an ISIS account pretend...  not_cyberbullying   \n",
       "\n",
       "   sentiment_encoded                                       cleaned_text  \n",
       "0                  6                 word katandandr food crapilici mkr  \n",
       "1                  6  aussietv white mkr theblock imacelebrityau tod...  \n",
       "2                  6                     classi whore red velvet cupcak  \n",
       "3                  6  meh p thank head concern anoth angri dude twitter  \n",
       "4                  6  isi account pretend kurdish account like islam...  "
      ]
     },
     "execution_count": 25,
     "metadata": {},
     "output_type": "execute_result"
    }
   ],
   "source": [
    "data['cleaned_text'] = data['text'].apply(preprocess)\n",
    "data.head()"
   ]
  },
  {
   "cell_type": "markdown",
   "id": "7a1e7731",
   "metadata": {},
   "source": [
    "## Cleaned text added"
   ]
  },
  {
   "cell_type": "markdown",
   "id": "2db44e62",
   "metadata": {},
   "source": [
    "## Dealing with Duplicates"
   ]
  },
  {
   "cell_type": "code",
   "execution_count": 26,
   "id": "596a314f",
   "metadata": {},
   "outputs": [
    {
     "data": {
      "text/plain": [
       "3041"
      ]
     },
     "execution_count": 26,
     "metadata": {},
     "output_type": "execute_result"
    }
   ],
   "source": [
    "data[\"cleaned_text\"].duplicated().sum()"
   ]
  },
  {
   "cell_type": "code",
   "execution_count": 27,
   "id": "bbf91544",
   "metadata": {},
   "outputs": [],
   "source": [
    "data.drop_duplicates(\"cleaned_text\", inplace=True)"
   ]
  },
  {
   "cell_type": "markdown",
   "id": "13fb3957",
   "metadata": {},
   "source": [
    "# Duplicates removed"
   ]
  },
  {
   "cell_type": "markdown",
   "id": "550ff3ff",
   "metadata": {},
   "source": [
    "# Tokenization"
   ]
  },
  {
   "cell_type": "code",
   "execution_count": 28,
   "id": "4023b36e",
   "metadata": {},
   "outputs": [
    {
     "data": {
      "text/html": [
       "<div>\n",
       "<style scoped>\n",
       "    .dataframe tbody tr th:only-of-type {\n",
       "        vertical-align: middle;\n",
       "    }\n",
       "\n",
       "    .dataframe tbody tr th {\n",
       "        vertical-align: top;\n",
       "    }\n",
       "\n",
       "    .dataframe thead th {\n",
       "        text-align: right;\n",
       "    }\n",
       "</style>\n",
       "<table border=\"1\" class=\"dataframe\">\n",
       "  <thead>\n",
       "    <tr style=\"text-align: right;\">\n",
       "      <th></th>\n",
       "      <th>text</th>\n",
       "      <th>sentiment</th>\n",
       "      <th>sentiment_encoded</th>\n",
       "      <th>cleaned_text</th>\n",
       "      <th>tweet_list</th>\n",
       "    </tr>\n",
       "  </thead>\n",
       "  <tbody>\n",
       "    <tr>\n",
       "      <th>0</th>\n",
       "      <td>In other words #katandandre, your food was cra...</td>\n",
       "      <td>not_cyberbullying</td>\n",
       "      <td>6</td>\n",
       "      <td>word katandandr food crapilici mkr</td>\n",
       "      <td>[word, katandandr, food, crapilici, mkr]</td>\n",
       "    </tr>\n",
       "    <tr>\n",
       "      <th>1</th>\n",
       "      <td>Why is #aussietv so white? #MKR #theblock #ImA...</td>\n",
       "      <td>not_cyberbullying</td>\n",
       "      <td>6</td>\n",
       "      <td>aussietv white mkr theblock imacelebrityau tod...</td>\n",
       "      <td>[aussietv, white, mkr, theblock, imacelebritya...</td>\n",
       "    </tr>\n",
       "    <tr>\n",
       "      <th>2</th>\n",
       "      <td>@XochitlSuckkks a classy whore? Or more red ve...</td>\n",
       "      <td>not_cyberbullying</td>\n",
       "      <td>6</td>\n",
       "      <td>classi whore red velvet cupcak</td>\n",
       "      <td>[classi, whore, red, velvet, cupcak]</td>\n",
       "    </tr>\n",
       "    <tr>\n",
       "      <th>3</th>\n",
       "      <td>@Jason_Gio meh. :P  thanks for the heads up, b...</td>\n",
       "      <td>not_cyberbullying</td>\n",
       "      <td>6</td>\n",
       "      <td>meh p thank head concern anoth angri dude twitter</td>\n",
       "      <td>[meh, p, thank, head, concern, anoth, angri, d...</td>\n",
       "    </tr>\n",
       "    <tr>\n",
       "      <th>4</th>\n",
       "      <td>@RudhoeEnglish This is an ISIS account pretend...</td>\n",
       "      <td>not_cyberbullying</td>\n",
       "      <td>6</td>\n",
       "      <td>isi account pretend kurdish account like islam...</td>\n",
       "      <td>[isi, account, pretend, kurdish, account, like...</td>\n",
       "    </tr>\n",
       "  </tbody>\n",
       "</table>\n",
       "</div>"
      ],
      "text/plain": [
       "                                                text          sentiment  \\\n",
       "0  In other words #katandandre, your food was cra...  not_cyberbullying   \n",
       "1  Why is #aussietv so white? #MKR #theblock #ImA...  not_cyberbullying   \n",
       "2  @XochitlSuckkks a classy whore? Or more red ve...  not_cyberbullying   \n",
       "3  @Jason_Gio meh. :P  thanks for the heads up, b...  not_cyberbullying   \n",
       "4  @RudhoeEnglish This is an ISIS account pretend...  not_cyberbullying   \n",
       "\n",
       "   sentiment_encoded                                       cleaned_text  \\\n",
       "0                  6                 word katandandr food crapilici mkr   \n",
       "1                  6  aussietv white mkr theblock imacelebrityau tod...   \n",
       "2                  6                     classi whore red velvet cupcak   \n",
       "3                  6  meh p thank head concern anoth angri dude twitter   \n",
       "4                  6  isi account pretend kurdish account like islam...   \n",
       "\n",
       "                                          tweet_list  \n",
       "0           [word, katandandr, food, crapilici, mkr]  \n",
       "1  [aussietv, white, mkr, theblock, imacelebritya...  \n",
       "2               [classi, whore, red, velvet, cupcak]  \n",
       "3  [meh, p, thank, head, concern, anoth, angri, d...  \n",
       "4  [isi, account, pretend, kurdish, account, like...  "
      ]
     },
     "execution_count": 28,
     "metadata": {},
     "output_type": "execute_result"
    }
   ],
   "source": [
    "data['tweet_list'] = data['cleaned_text'].apply(word_tokenize)\n",
    "data.head()"
   ]
  },
  {
   "cell_type": "markdown",
   "id": "99cebeba",
   "metadata": {},
   "source": [
    "# Checking length of various tweet texts"
   ]
  },
  {
   "cell_type": "code",
   "execution_count": 29,
   "id": "8434c6e5",
   "metadata": {},
   "outputs": [],
   "source": [
    "text_len = []\n",
    "for text in data.tweet_list:\n",
    "    tweet_len = len(text)\n",
    "    text_len.append(tweet_len)\n",
    "data['text_len'] = text_len"
   ]
  },
  {
   "cell_type": "code",
   "execution_count": 30,
   "id": "3d527c3b",
   "metadata": {},
   "outputs": [
    {
     "data": {
      "image/png": "[encoded data removed]",
      "text/plain": [
       "<Figure size 1500x800 with 1 Axes>"
      ]
     },
     "metadata": {},
     "output_type": "display_data"
    }
   ],
   "source": [
    "plt.figure(figsize=(15,8))\n",
    "ax = sns.countplot(x='text_len', data=data, palette='mako')\n",
    "plt.title('Count of words in tweets', fontsize=20)\n",
    "plt.yticks([])\n",
    "ax.bar_label(ax.containers[0])\n",
    "plt.ylabel('count')\n",
    "plt.xlabel('')\n",
    "plt.show()"
   ]
  },
  {
   "cell_type": "markdown",
   "id": "bac7122a",
   "metadata": {},
   "source": [
    "# Removing text without words"
   ]
  },
  {
   "cell_type": "code",
   "execution_count": 31,
   "id": "337858c8",
   "metadata": {},
   "outputs": [],
   "source": [
    "data = data[data['text_len']!=0]"
   ]
  },
  {
   "cell_type": "code",
   "execution_count": 32,
   "id": "5927d28b",
   "metadata": {},
   "outputs": [
    {
     "data": {
      "text/plain": [
       "(44650, 6)"
      ]
     },
     "execution_count": 32,
     "metadata": {},
     "output_type": "execute_result"
    }
   ],
   "source": [
    "data.shape"
   ]
  },
  {
   "cell_type": "markdown",
   "id": "5a770a2a",
   "metadata": {},
   "source": [
    "# Function to create WordCloud"
   ]
  },
  {
   "cell_type": "code",
   "execution_count": 33,
   "id": "72ea90e8",
   "metadata": {},
   "outputs": [],
   "source": [
    "def plot_wordcloud(cyberbullying_type):\n",
    "    string = \"\"\n",
    "    for i in data[data.sentiment == cyberbullying_type].cleaned_text.values:\n",
    "        string = string + \" \" + i.strip()\n",
    "\n",
    "    custom_mask = np.array(Image.open('statics/gmail.png'))\n",
    "    mask_colors = ImageColorGenerator(custom_mask)\n",
    "    wordcloud = WordCloud(background_color ='white',max_words=2000, max_font_size=256,\n",
    "               random_state=42, width=custom_mask.shape[1],height=custom_mask.shape[0],\n",
    "                mask = custom_mask,min_font_size = 10,color_func=mask_colors).generate(string)\n",
    " \n",
    "    # plot the WordCloud image                      \n",
    "    plt.figure(figsize = (8, 8), facecolor = None)\n",
    "    plt.imshow(wordcloud)\n",
    "    plt.axis(\"off\")\n",
    "    plt.tight_layout(pad = 0)\n",
    "    plt.title(cyberbullying_type)\n",
    "    plt.show()\n",
    "    del string"
   ]
  },
  {
   "cell_type": "markdown",
   "id": "98989bcf",
   "metadata": {},
   "source": [
    "# Splitting data based on sentiment for Data Exploration"
   ]
  },
  {
   "cell_type": "code",
   "execution_count": 34,
   "id": "8447913c",
   "metadata": {},
   "outputs": [],
   "source": [
    "not_cyberbullying_type = data[data['sentiment']=='not_cyberbullying']\n",
    "gender_type = data[data['sentiment']=='gender']\n",
    "religion_type = data[data['sentiment']=='religion']\n",
    "other_cyberbullying_type = data[data['sentiment']=='other_cyberbullying']\n",
    "age_type = data[data['sentiment']=='age']\n",
    "ethnicity_type = data[data['sentiment']=='ethnicity']"
   ]
  },
  {
   "cell_type": "markdown",
   "id": "87328182",
   "metadata": {},
   "source": [
    "# Exploratory Data Analysis"
   ]
  },
  {
   "cell_type": "markdown",
   "id": "a6b9ded2",
   "metadata": {},
   "source": [
    "# Gender Based Cyberbullying"
   ]
  },
  {
   "cell_type": "code",
   "execution_count": 35,
   "id": "bf363699",
   "metadata": {},
   "outputs": [
    {
     "data": {
      "text/html": [
       "<style type=\"text/css\">\n",
       "#T_86de0_row0_col1 {\n",
       "  background-color: #00441b;\n",
       "  color: #f1f1f1;\n",
       "}\n",
       "#T_86de0_row1_col1 {\n",
       "  background-color: #1e8741;\n",
       "  color: #f1f1f1;\n",
       "}\n",
       "#T_86de0_row2_col1 {\n",
       "  background-color: #2a924a;\n",
       "  color: #f1f1f1;\n",
       "}\n",
       "#T_86de0_row3_col1 {\n",
       "  background-color: #d3eecd;\n",
       "  color: #000000;\n",
       "}\n",
       "#T_86de0_row4_col1 {\n",
       "  background-color: #d9f0d3;\n",
       "  color: #000000;\n",
       "}\n",
       "#T_86de0_row5_col1 {\n",
       "  background-color: #dbf1d6;\n",
       "  color: #000000;\n",
       "}\n",
       "#T_86de0_row6_col1 {\n",
       "  background-color: #ddf2d8;\n",
       "  color: #000000;\n",
       "}\n",
       "#T_86de0_row7_col1 {\n",
       "  background-color: #dff3da;\n",
       "  color: #000000;\n",
       "}\n",
       "#T_86de0_row8_col1 {\n",
       "  background-color: #e1f3dc;\n",
       "  color: #000000;\n",
       "}\n",
       "#T_86de0_row9_col1, #T_86de0_row10_col1 {\n",
       "  background-color: #e7f6e2;\n",
       "  color: #000000;\n",
       "}\n",
       "#T_86de0_row11_col1 {\n",
       "  background-color: #e8f6e3;\n",
       "  color: #000000;\n",
       "}\n",
       "#T_86de0_row12_col1, #T_86de0_row13_col1 {\n",
       "  background-color: #f1faee;\n",
       "  color: #000000;\n",
       "}\n",
       "#T_86de0_row14_col1 {\n",
       "  background-color: #f2faef;\n",
       "  color: #000000;\n",
       "}\n",
       "#T_86de0_row15_col1, #T_86de0_row16_col1 {\n",
       "  background-color: #f2faf0;\n",
       "  color: #000000;\n",
       "}\n",
       "#T_86de0_row17_col1 {\n",
       "  background-color: #f4fbf1;\n",
       "  color: #000000;\n",
       "}\n",
       "#T_86de0_row18_col1 {\n",
       "  background-color: #f4fbf2;\n",
       "  color: #000000;\n",
       "}\n",
       "#T_86de0_row19_col1 {\n",
       "  background-color: #f7fcf5;\n",
       "  color: #000000;\n",
       "}\n",
       "</style>\n",
       "<table id=\"T_86de0\">\n",
       "  <thead>\n",
       "    <tr>\n",
       "      <th class=\"blank level0\" >&nbsp;</th>\n",
       "      <th id=\"T_86de0_level0_col0\" class=\"col_heading level0 col0\" >Top Words</th>\n",
       "      <th id=\"T_86de0_level0_col1\" class=\"col_heading level0 col1\" >Count</th>\n",
       "    </tr>\n",
       "  </thead>\n",
       "  <tbody>\n",
       "    <tr>\n",
       "      <th id=\"T_86de0_level0_row0\" class=\"row_heading level0 row0\" >0</th>\n",
       "      <td id=\"T_86de0_row0_col0\" class=\"data row0 col0\" >joke</td>\n",
       "      <td id=\"T_86de0_row0_col1\" class=\"data row0 col1\" >5179</td>\n",
       "    </tr>\n",
       "    <tr>\n",
       "      <th id=\"T_86de0_level0_row1\" class=\"row_heading level0 row1\" >1</th>\n",
       "      <td id=\"T_86de0_row1_col0\" class=\"data row1 col0\" >rape</td>\n",
       "      <td id=\"T_86de0_row1_col1\" class=\"data row1 col1\" >4070</td>\n",
       "    </tr>\n",
       "    <tr>\n",
       "      <th id=\"T_86de0_level0_row2\" class=\"row_heading level0 row2\" >2</th>\n",
       "      <td id=\"T_86de0_row2_col0\" class=\"data row2 col0\" >gay</td>\n",
       "      <td id=\"T_86de0_row2_col1\" class=\"data row2 col1\" >3852</td>\n",
       "    </tr>\n",
       "    <tr>\n",
       "      <th id=\"T_86de0_level0_row3\" class=\"row_heading level0 row3\" >3</th>\n",
       "      <td id=\"T_86de0_row3_col0\" class=\"data row3 col0\" >call</td>\n",
       "      <td id=\"T_86de0_row3_col1\" class=\"data row3 col1\" >1401</td>\n",
       "    </tr>\n",
       "    <tr>\n",
       "      <th id=\"T_86de0_level0_row4\" class=\"row_heading level0 row4\" >4</th>\n",
       "      <td id=\"T_86de0_row4_col0\" class=\"data row4 col0\" >make</td>\n",
       "      <td id=\"T_86de0_row4_col1\" class=\"data row4 col1\" >1283</td>\n",
       "    </tr>\n",
       "    <tr>\n",
       "      <th id=\"T_86de0_level0_row5\" class=\"row_heading level0 row5\" >5</th>\n",
       "      <td id=\"T_86de0_row5_col0\" class=\"data row5 col0\" >rt</td>\n",
       "      <td id=\"T_86de0_row5_col1\" class=\"data row5 col1\" >1221</td>\n",
       "    </tr>\n",
       "    <tr>\n",
       "      <th id=\"T_86de0_level0_row6\" class=\"row_heading level0 row6\" >6</th>\n",
       "      <td id=\"T_86de0_row6_col0\" class=\"data row6 col0\" >woman</td>\n",
       "      <td id=\"T_86de0_row6_col1\" class=\"data row6 col1\" >1182</td>\n",
       "    </tr>\n",
       "    <tr>\n",
       "      <th id=\"T_86de0_level0_row7\" class=\"row_heading level0 row7\" >7</th>\n",
       "      <td id=\"T_86de0_row7_col0\" class=\"data row7 col0\" >bitch</td>\n",
       "      <td id=\"T_86de0_row7_col1\" class=\"data row7 col1\" >1146</td>\n",
       "    </tr>\n",
       "    <tr>\n",
       "      <th id=\"T_86de0_level0_row8\" class=\"row_heading level0 row8\" >8</th>\n",
       "      <td id=\"T_86de0_row8_col0\" class=\"data row8 col0\" >femal</td>\n",
       "      <td id=\"T_86de0_row8_col1\" class=\"data row8 col1\" >1108</td>\n",
       "    </tr>\n",
       "    <tr>\n",
       "      <th id=\"T_86de0_level0_row9\" class=\"row_heading level0 row9\" >9</th>\n",
       "      <td id=\"T_86de0_row9_col0\" class=\"data row9 col0\" >peopl</td>\n",
       "      <td id=\"T_86de0_row9_col1\" class=\"data row9 col1\" >988</td>\n",
       "    </tr>\n",
       "    <tr>\n",
       "      <th id=\"T_86de0_level0_row10\" class=\"row_heading level0 row10\" >10</th>\n",
       "      <td id=\"T_86de0_row10_col0\" class=\"data row10 col0\" >like</td>\n",
       "      <td id=\"T_86de0_row10_col1\" class=\"data row10 col1\" >978</td>\n",
       "    </tr>\n",
       "    <tr>\n",
       "      <th id=\"T_86de0_level0_row11\" class=\"row_heading level0 row11\" >11</th>\n",
       "      <td id=\"T_86de0_row11_col0\" class=\"data row11 col0\" >sexist</td>\n",
       "      <td id=\"T_86de0_row11_col1\" class=\"data row11 col1\" >953</td>\n",
       "    </tr>\n",
       "    <tr>\n",
       "      <th id=\"T_86de0_level0_row12\" class=\"row_heading level0 row12\" >12</th>\n",
       "      <td id=\"T_86de0_row12_col0\" class=\"data row12 col0\" >funni</td>\n",
       "      <td id=\"T_86de0_row12_col1\" class=\"data row12 col1\" >662</td>\n",
       "    </tr>\n",
       "    <tr>\n",
       "      <th id=\"T_86de0_level0_row13\" class=\"row_heading level0 row13\" >13</th>\n",
       "      <td id=\"T_86de0_row13_col0\" class=\"data row13 col0\" >mkr</td>\n",
       "      <td id=\"T_86de0_row13_col1\" class=\"data row13 col1\" >659</td>\n",
       "    </tr>\n",
       "    <tr>\n",
       "      <th id=\"T_86de0_level0_row14\" class=\"row_heading level0 row14\" >14</th>\n",
       "      <td id=\"T_86de0_row14_col0\" class=\"data row14 col0\" >men</td>\n",
       "      <td id=\"T_86de0_row14_col1\" class=\"data row14 col1\" >614</td>\n",
       "    </tr>\n",
       "    <tr>\n",
       "      <th id=\"T_86de0_level0_row15\" class=\"row_heading level0 row15\" >15</th>\n",
       "      <td id=\"T_86de0_row15_col0\" class=\"data row15 col0\" >say</td>\n",
       "      <td id=\"T_86de0_row15_col1\" class=\"data row15 col1\" >592</td>\n",
       "    </tr>\n",
       "    <tr>\n",
       "      <th id=\"T_86de0_level0_row16\" class=\"row_heading level0 row16\" >16</th>\n",
       "      <td id=\"T_86de0_row16_col0\" class=\"data row16 col0\" >think</td>\n",
       "      <td id=\"T_86de0_row16_col1\" class=\"data row16 col1\" >592</td>\n",
       "    </tr>\n",
       "    <tr>\n",
       "      <th id=\"T_86de0_level0_row17\" class=\"row_heading level0 row17\" >17</th>\n",
       "      <td id=\"T_86de0_row17_col0\" class=\"data row17 col0\" >get</td>\n",
       "      <td id=\"T_86de0_row17_col1\" class=\"data row17 col1\" >555</td>\n",
       "    </tr>\n",
       "    <tr>\n",
       "      <th id=\"T_86de0_level0_row18\" class=\"row_heading level0 row18\" >18</th>\n",
       "      <td id=\"T_86de0_row18_col0\" class=\"data row18 col0\" >fuck</td>\n",
       "      <td id=\"T_86de0_row18_col1\" class=\"data row18 col1\" >548</td>\n",
       "    </tr>\n",
       "    <tr>\n",
       "      <th id=\"T_86de0_level0_row19\" class=\"row_heading level0 row19\" >19</th>\n",
       "      <td id=\"T_86de0_row19_col0\" class=\"data row19 col0\" >use</td>\n",
       "      <td id=\"T_86de0_row19_col1\" class=\"data row19 col1\" >441</td>\n",
       "    </tr>\n",
       "  </tbody>\n",
       "</table>\n"
      ],
      "text/plain": [
       "<pandas.io.formats.style.Styler at 0x2b49b0fb100>"
      ]
     },
     "execution_count": 35,
     "metadata": {},
     "output_type": "execute_result"
    }
   ],
   "source": [
    "gender = Counter([item for sublist in gender_type['tweet_list'] for item in sublist])\n",
    "top20_gender = pd.DataFrame(gender.most_common(20))\n",
    "top20_gender.columns = ['Top Words','Count']\n",
    "top20_gender.style.background_gradient(cmap='Greens')"
   ]
  },
  {
   "cell_type": "code",
   "execution_count": 36,
   "id": "6863d867",
   "metadata": {},
   "outputs": [
    {
     "data": {
      "text/plain": [
       "Text(0.5, 1.0, 'Top 20 words in Gender Cyberbullying')"
      ]
     },
     "execution_count": 36,
     "metadata": {},
     "output_type": "execute_result"
    },
    {
     "data": {
      "image/png": "[encoded data removed]",
      "text/plain": [
       "<Figure size 1500x800 with 1 Axes>"
      ]
     },
     "metadata": {},
     "output_type": "display_data"
    }
   ],
   "source": [
    "fig = plt.figure(figsize=(15,8))\n",
    "sns.barplot(data=top20_gender, y=\"Count\", x=\"Top Words\")\n",
    "plt.title(\"Top 20 words in Gender Cyberbullying\")"
   ]
  },
  {
   "cell_type": "code",
   "execution_count": null,
   "id": "8bc2643c",
   "metadata": {},
   "outputs": [],
   "source": [
    "plot_wordcloud('gender')"
   ]
  },
  {
   "cell_type": "markdown",
   "id": "c8bd58bd",
   "metadata": {},
   "source": [
    "# Religion Based Cyberbullying"
   ]
  },
  {
   "cell_type": "code",
   "execution_count": null,
   "id": "7fb8c989",
   "metadata": {},
   "outputs": [],
   "source": [
    "religion = Counter([item for sublist in religion_type['tweet_list'] for item in sublist])\n",
    "top20_religion = pd.DataFrame(religion.most_common(20))\n",
    "top20_religion.columns = ['Top Words','Count']\n",
    "top20_religion.style.background_gradient(cmap='Greens')"
   ]
  },
  {
   "cell_type": "code",
   "execution_count": null,
   "id": "ba7da3f2",
   "metadata": {},
   "outputs": [],
   "source": [
    "fig = plt.figure(figsize=(15,8))\n",
    "sns.barplot(data=top20_religion, y=\"Count\", x=\"Top Words\")\n",
    "plt.title(\"Top 20 words in Religion Cyberbullying\")"
   ]
  },
  {
   "cell_type": "code",
   "execution_count": null,
   "id": "cc664261",
   "metadata": {},
   "outputs": [],
   "source": [
    "plot_wordcloud('religion')"
   ]
  },
  {
   "cell_type": "markdown",
   "id": "3f123cb6",
   "metadata": {},
   "source": [
    "# Age based Cyberbullying"
   ]
  },
  {
   "cell_type": "code",
   "execution_count": null,
   "id": "15938113",
   "metadata": {},
   "outputs": [],
   "source": [
    "age = Counter([item for sublist in age_type['tweet_list'] for item in sublist])\n",
    "top20_age = pd.DataFrame(age.most_common(20))\n",
    "top20_age.columns = ['Top Words','Count']\n",
    "top20_age.style.background_gradient(cmap='Greens')"
   ]
  },
  {
   "cell_type": "code",
   "execution_count": null,
   "id": "9e4ef0b5",
   "metadata": {},
   "outputs": [],
   "source": [
    "fig = plt.figure(figsize=(15,8))\n",
    "sns.barplot(data=top20_age, y=\"Count\", x=\"Top Words\")\n",
    "plt.title(\"Top 20 words in Age Cyberbullying\")"
   ]
  },
  {
   "cell_type": "code",
   "execution_count": null,
   "id": "30cc0e6e",
   "metadata": {},
   "outputs": [],
   "source": [
    "plot_wordcloud('age')"
   ]
  },
  {
   "cell_type": "markdown",
   "id": "e6b41e24",
   "metadata": {},
   "source": [
    "# Ethnicity based Cyberbullying"
   ]
  },
  {
   "cell_type": "code",
   "execution_count": null,
   "id": "bd56bdab",
   "metadata": {},
   "outputs": [],
   "source": [
    "ethnicity = Counter([item for sublist in ethnicity_type['tweet_list'] for item in sublist])\n",
    "top20_ethnicity = pd.DataFrame(ethnicity.most_common(20))\n",
    "top20_ethnicity.columns = ['Top Words','Count']\n",
    "top20_ethnicity.style.background_gradient(cmap='Greens')"
   ]
  },
  {
   "cell_type": "code",
   "execution_count": null,
   "id": "e186b9be",
   "metadata": {},
   "outputs": [],
   "source": [
    "fig = plt.figure(figsize=(15,8))\n",
    "sns.barplot(data=top20_ethnicity, y=\"Count\", x=\"Top Words\")\n",
    "plt.title(\"Top 20 words in Ethnicity Cyberbullying\")"
   ]
  },
  {
   "cell_type": "code",
   "execution_count": null,
   "id": "a9caeb66",
   "metadata": {},
   "outputs": [],
   "source": [
    "plot_wordcloud('ethnicity')"
   ]
  },
  {
   "cell_type": "markdown",
   "id": "ff2b24b3",
   "metadata": {},
   "source": [
    "# Other types of Cyberbullying"
   ]
  },
  {
   "cell_type": "code",
   "execution_count": null,
   "id": "c5ca6ffe",
   "metadata": {},
   "outputs": [],
   "source": [
    "other_cyberbullying = Counter([item for sublist in other_cyberbullying_type['tweet_list'] for item in sublist])\n",
    "top20_other_cyberbullying = pd.DataFrame(other_cyberbullying.most_common(20))\n",
    "top20_other_cyberbullying.columns = ['Top Words','Count']\n",
    "top20_other_cyberbullying.style.background_gradient(cmap='Greens')"
   ]
  },
  {
   "cell_type": "code",
   "execution_count": null,
   "id": "42204cf5",
   "metadata": {},
   "outputs": [],
   "source": [
    "fig = plt.figure(figsize=(15,8))\n",
    "sns.barplot(data=top20_other_cyberbullying, y=\"Count\", x=\"Top Words\")\n",
    "plt.title(\"Top 20 words in Other Cyberbullying\")"
   ]
  },
  {
   "cell_type": "code",
   "execution_count": null,
   "id": "e68c4a0c",
   "metadata": {},
   "outputs": [],
   "source": [
    "plot_wordcloud('other_cyberbullying')"
   ]
  },
  {
   "cell_type": "markdown",
   "id": "54f6c8bf",
   "metadata": {},
   "source": [
    "# Tweets without Cyberbullying"
   ]
  },
  {
   "cell_type": "code",
   "execution_count": null,
   "id": "a0b925b2",
   "metadata": {},
   "outputs": [],
   "source": [
    "not_cyberbullying = Counter([item for sublist in not_cyberbullying_type['tweet_list'] for item in sublist])\n",
    "top20_not_cyberbullying = pd.DataFrame(not_cyberbullying.most_common(20))\n",
    "top20_not_cyberbullying.columns = ['Top Words','Count']\n",
    "top20_not_cyberbullying.style.background_gradient(cmap='Greens')"
   ]
  },
  {
   "cell_type": "code",
   "execution_count": null,
   "id": "dc077276",
   "metadata": {},
   "outputs": [],
   "source": [
    "fig = plt.figure(figsize=(15,8))\n",
    "sns.barplot(data=top20_not_cyberbullying, y=\"Count\", x=\"Top Words\")\n",
    "plt.title(\"Top 20 words in Not Cyberbullying\")"
   ]
  },
  {
   "cell_type": "code",
   "execution_count": null,
   "id": "684fee73",
   "metadata": {},
   "outputs": [],
   "source": [
    "plot_wordcloud('not_cyberbullying')"
   ]
  },
  {
   "cell_type": "code",
   "execution_count": null,
   "id": "37454d4a",
   "metadata": {},
   "outputs": [],
   "source": [
    "data.head()"
   ]
  },
  {
   "cell_type": "code",
   "execution_count": null,
   "id": "eedfe8d0",
   "metadata": {},
   "outputs": [],
   "source": [
    "sentiments = [\"religion\", \"age\", \"ethnicity\", \"gender\", \"other_cyberbullying\",\"not_cyberbullying\"]"
   ]
  },
  {
   "cell_type": "markdown",
   "id": "440a39e6",
   "metadata": {},
   "source": [
    "# Splitting Data into Train and Test Sets"
   ]
  },
  {
   "cell_type": "code",
   "execution_count": null,
   "id": "d5639dad",
   "metadata": {},
   "outputs": [],
   "source": [
    "X,Y = data['cleaned_text'],data['sentiment_encoded']"
   ]
  },
  {
   "cell_type": "code",
   "execution_count": null,
   "id": "8d820ba2",
   "metadata": {},
   "outputs": [],
   "source": [
    "X_train, X_test, y_train, y_test = train_test_split(X, Y, test_size = 0.3, stratify =Y, random_state = 42)\n",
    "print(X_train.shape, y_train.shape, X_test.shape, y_test.shape)"
   ]
  },
  {
   "cell_type": "markdown",
   "id": "d856c65a",
   "metadata": {},
   "source": [
    "## tf-idf Vectorization"
   ]
  },
  {
   "cell_type": "code",
   "execution_count": null,
   "id": "38ee8a14",
   "metadata": {},
   "outputs": [],
   "source": [
    "tf_idf = TfidfVectorizer()\n",
    "X_train_tf = tf_idf.fit_transform(X_train)\n",
    "X_test_tf = tf_idf.transform(X_test)\n",
    "print(X_train_tf.shape)\n",
    "print(X_test_tf.shape)"
   ]
  },
  {
   "cell_type": "markdown",
   "id": "fb46782d",
   "metadata": {},
   "source": [
    "# Trying Different ML Models"
   ]
  },
  {
   "cell_type": "markdown",
   "id": "1c58b9ef",
   "metadata": {},
   "source": [
    "## Logistic Regression"
   ]
  },
  {
   "cell_type": "code",
   "execution_count": null,
   "id": "19fd696a",
   "metadata": {},
   "outputs": [],
   "source": [
    "log_reg = LogisticRegression()"
   ]
  },
  {
   "cell_type": "code",
   "execution_count": null,
   "id": "8a315a7c",
   "metadata": {},
   "outputs": [],
   "source": [
    "log_cv_score = cross_val_score(log_reg,X_train_tf,y_train,cv=5,scoring='f1_macro',n_jobs=-1)"
   ]
  },
  {
   "cell_type": "code",
   "execution_count": null,
   "id": "713d8410",
   "metadata": {},
   "outputs": [],
   "source": [
    "mean_log_cv = np.mean(log_cv_score)\n",
    "mean_log_cv"
   ]
  },
  {
   "cell_type": "markdown",
   "id": "27c9371c",
   "metadata": {},
   "source": [
    "## Support Vector Classifier"
   ]
  },
  {
   "cell_type": "code",
   "execution_count": null,
   "id": "f14649e1",
   "metadata": {},
   "outputs": [],
   "source": [
    "lin_svc = LinearSVC()"
   ]
  },
  {
   "cell_type": "code",
   "execution_count": null,
   "id": "f110ed71",
   "metadata": {},
   "outputs": [],
   "source": [
    "lin_svc_cv_score = cross_val_score(lin_svc,X_train_tf,y_train,cv=5,scoring='f1_macro',n_jobs=-1)\n",
    "mean_lin_svc_cv = np.mean(lin_svc_cv_score)\n",
    "mean_lin_svc_cv"
   ]
  },
  {
   "cell_type": "markdown",
   "id": "363aaf14",
   "metadata": {},
   "source": [
    "## Naive Bayes Classifier"
   ]
  },
  {
   "cell_type": "code",
   "execution_count": null,
   "id": "e26fb4bb",
   "metadata": {},
   "outputs": [],
   "source": [
    "multiNB = MultinomialNB()"
   ]
  },
  {
   "cell_type": "code",
   "execution_count": null,
   "id": "f2c7e8ce",
   "metadata": {},
   "outputs": [],
   "source": [
    "multiNB_cv_score = cross_val_score(multiNB,X_train_tf,y_train,cv=5,scoring='f1_macro',n_jobs=-1)\n",
    "mean_multiNB_cv = np.mean(multiNB_cv_score)\n",
    "mean_multiNB_cv"
   ]
  },
  {
   "cell_type": "markdown",
   "id": "e057eb82",
   "metadata": {},
   "source": [
    "## Decison Tree Classifier"
   ]
  },
  {
   "cell_type": "code",
   "execution_count": null,
   "id": "dc0cb476",
   "metadata": {},
   "outputs": [],
   "source": [
    "dtree = DecisionTreeClassifier()"
   ]
  },
  {
   "cell_type": "code",
   "execution_count": null,
   "id": "1e4850b4",
   "metadata": {},
   "outputs": [],
   "source": [
    "dtree_cv_score = cross_val_score(dtree,X_train_tf,y_train,cv=5,scoring='f1_macro',n_jobs=-1)\n",
    "mean_dtree_cv = np.mean(dtree_cv_score)\n",
    "mean_dtree_cv"
   ]
  },
  {
   "cell_type": "markdown",
   "id": "45941111",
   "metadata": {},
   "source": [
    "## RandomForest Classifier "
   ]
  },
  {
   "cell_type": "code",
   "execution_count": null,
   "id": "917497ac",
   "metadata": {},
   "outputs": [],
   "source": [
    "rand_forest = RandomForestClassifier()"
   ]
  },
  {
   "cell_type": "code",
   "execution_count": null,
   "id": "fa4a8d3e",
   "metadata": {},
   "outputs": [],
   "source": [
    "rand_forest_cv_score = cross_val_score(rand_forest,X_train_tf,y_train,cv=5,scoring='f1_macro',n_jobs=-1)\n",
    "mean_rand_forest_cv = np.mean(rand_forest_cv_score)\n",
    "mean_rand_forest_cv"
   ]
  },
  {
   "cell_type": "markdown",
   "id": "e9d22fe6",
   "metadata": {},
   "source": [
    "## Adaboost Classifier"
   ]
  },
  {
   "cell_type": "code",
   "execution_count": null,
   "id": "6055d92a",
   "metadata": {},
   "outputs": [],
   "source": [
    "adab = AdaBoostClassifier()"
   ]
  },
  {
   "cell_type": "code",
   "execution_count": null,
   "id": "c1e3b714",
   "metadata": {},
   "outputs": [],
   "source": [
    "adab_cv_score = cross_val_score(adab,X_train_tf,y_train,cv=5,scoring='f1_macro',n_jobs=-1)\n",
    "mean_adab_cv = np.mean(adab_cv_score)\n",
    "mean_adab_cv"
   ]
  },
  {
   "cell_type": "markdown",
   "id": "a48cfd3b",
   "metadata": {},
   "source": [
    "## By trying different models we can see logistic regression, svm and random forest classifier performed similarly, so among these we will go with svm model as it is more generalised and light"
   ]
  },
  {
   "cell_type": "markdown",
   "id": "b9305d95",
   "metadata": {},
   "source": [
    "## Fine Tuning Support Vector Classifier"
   ]
  },
  {
   "cell_type": "code",
   "execution_count": null,
   "id": "c0a29506",
   "metadata": {},
   "outputs": [],
   "source": [
    "svc1 = LinearSVC()\n",
    "param_grid = {'C':[0.0001,0.001,0.01,0.1,1,10],\n",
    "             'loss':['hinge','squared_hinge'],\n",
    "             'fit_intercept':[True,False]}\n",
    "grid_search = GridSearchCV(svc1,param_grid,cv=5,scoring='f1_macro',n_jobs=-1,verbose=0,return_train_score=True)\n",
    "grid_search.fit(X_train_tf,y_train)"
   ]
  },
  {
   "cell_type": "code",
   "execution_count": null,
   "id": "d517b9c6",
   "metadata": {},
   "outputs": [],
   "source": [
    "grid_search.best_estimator_"
   ]
  },
  {
   "cell_type": "code",
   "execution_count": null,
   "id": "a7a6aa2e",
   "metadata": {},
   "outputs": [],
   "source": [
    "grid_search.best_score_"
   ]
  },
  {
   "cell_type": "markdown",
   "id": "cf493091",
   "metadata": {},
   "source": [
    "# Model Evaluation"
   ]
  },
  {
   "cell_type": "code",
   "execution_count": null,
   "id": "245152c6",
   "metadata": {},
   "outputs": [],
   "source": [
    "lin_svc.fit(X_train_tf,y_train)\n",
    "y_pred = lin_svc.predict(X_test_tf)"
   ]
  },
  {
   "cell_type": "code",
   "execution_count": null,
   "id": "b8844e8e",
   "metadata": {},
   "outputs": [],
   "source": [
    "def print_confusion_matrix(confusion_matrix, class_names, figsize = (10,7), fontsize=14):\n",
    "    df_cm = pd.DataFrame(confusion_matrix, index=class_names, columns=class_names)\n",
    "    fig = plt.figure(figsize=figsize)\n",
    "    try:\n",
    "        heatmap = sns.heatmap(df_cm, annot=True, fmt=\"d\")\n",
    "    except ValueError:\n",
    "        raise ValueError(\"Confusion matrix values must be integers.\")\n",
    "    heatmap.yaxis.set_ticklabels(heatmap.yaxis.get_ticklabels(), rotation=0, ha='right', fontsize=fontsize)\n",
    "    heatmap.xaxis.set_ticklabels(heatmap.xaxis.get_ticklabels(), rotation=45, ha='right', fontsize=fontsize)\n",
    "    plt.ylabel('Truth')\n",
    "    plt.xlabel('Prediction')"
   ]
  },
  {
   "cell_type": "code",
   "execution_count": null,
   "id": "230489f1",
   "metadata": {},
   "outputs": [],
   "source": [
    "cm = confusion_matrix(y_test,y_pred)\n",
    "print_confusion_matrix(cm,sentiments)"
   ]
  },
  {
   "cell_type": "code",
   "execution_count": null,
   "id": "73b5f468",
   "metadata": {},
   "outputs": [],
   "source": [
    "print('Classification Report:\\n',classification_report(y_test, y_pred, target_names=sentiments))"
   ]
  },
  {
   "cell_type": "code",
   "execution_count": null,
   "id": "287943cc",
   "metadata": {},
   "outputs": [],
   "source": [
    "pickle.dump(tf_idf, open('vectorizer.pkl', 'wb'))\n",
    "pickle.dump(lin_svc, open('model.pkl', 'wb'))"
   ]
  },
  {
   "cell_type": "code",
   "execution_count": null,
   "id": "816ee699",
   "metadata": {},
   "outputs": [],
   "source": []
  },
  {
   "cell_type": "code",
   "execution_count": null,
   "id": "55461707",
   "metadata": {},
   "outputs": [],
   "source": []
  },
  {
   "cell_type": "code",
   "execution_count": null,
   "id": "91d470fb",
   "metadata": {},
   "outputs": [],
   "source": []
  }
 ],
 "metadata": {
  "kernelspec": {
   "display_name": "Python 3 (ipykernel)",
   "language": "python",
   "name": "python3"
  },
  "language_info": {
   "codemirror_mode": {
    "name": "ipython",
    "version": 3
   },
   "file_extension": ".py",
   "mimetype": "text/x-python",
   "name": "python",
   "nbconvert_exporter": "python",
   "pygments_lexer": "ipython3",
   "version": "3.9.13"
  },
  "vscode": {
   "interpreter": {
    "hash": "11938c6bc6919ae2720b4d5011047913343b08a43b18698fd82dedb0d4417594"
   }
  }
 },
 "nbformat": 4,
 "nbformat_minor": 5
}
